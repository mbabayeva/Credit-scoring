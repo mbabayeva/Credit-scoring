{
 "cells": [
  {
   "cell_type": "code",
   "execution_count": 1,
   "metadata": {},
   "outputs": [],
   "source": [
    "import math\n",
    "import random\n",
    "import pandas as pd\n",
    "import numpy as np\n",
    "import matplotlib.pyplot as plt\n",
    "from sklearn.linear_model import LogisticRegression\n",
    "from sklearn.metrics import accuracy_score\n",
    "from sklearn.metrics import confusion_matrix"
   ]
  },
  {
   "cell_type": "code",
   "execution_count": 2,
   "metadata": {},
   "outputs": [],
   "source": [
    "df = pd.read_csv(\"smallsample.csv\", encoding = 'utf-8')\n",
    "# features = ['Gender','Reality','wkphone']  with this it works \n",
    "features = ['Gender','Reality','ChldNo_1', 'ChldNo_2More','wkphone',\n",
    "              'gp_Age_high', 'gp_Age_highest', 'gp_Age_medium',\n",
    "       'gp_Age_lowest','gp_worktm_high', 'gp_worktm_highest',\n",
    "       'gp_worktm_low', 'gp_worktm_medium','occyp_hightecwk', \n",
    "              'occyp_Laborwk','famsizegp_1', 'famsizegp_3more',\n",
    "       'houtp_Co-op apartment', 'houtp_Municipal apartment',\n",
    "       'houtp_Office apartment', 'houtp_Rented apartment',\n",
    "       'houtp_With parents','edutp_Higher education',\n",
    "       'edutp_Incomplete higher', 'edutp_Lower secondary','famtp_Civil marriage',\n",
    "       'famtp_Separated','famtp_Single / not married','famtp_Widow'] \n",
    "\n",
    "nb_train = int(np.floor(0.9 * len(df)))\n",
    "df = df.sample(frac=1, random_state=217)\n",
    "X_train = df[features][:nb_train]\n",
    "y_train = pd.DataFrame(df['target'][:nb_train].values)\n",
    "X_test = df[features][nb_train:]\n",
    "y_test = pd.DataFrame(df['target'][nb_train:].values)"
   ]
  },
  {
   "cell_type": "code",
   "execution_count": 3,
   "metadata": {},
   "outputs": [],
   "source": [
    "import itertools # we will use this library tools\n",
    "def plot_confusion_matrix(cm, classes,\n",
    "                          normalize=False,\n",
    "                          title='Confusion matrix',\n",
    "                          cmap=plt.cm.Blues): # choosing blue theme for the graph\n",
    "    if normalize:\n",
    "        cm = cm.astype('float') / cm.sum(axis=1)[:, np.newaxis] # calculating the outlining indicators \n",
    "        \n",
    "    print(cm) # printing the confusion matrix\n",
    "    # designing the graph:\n",
    "    plt.imshow(cm, interpolation='nearest', cmap=cmap) # will be displaying data as 2D image\n",
    "    plt.title(title) # adding title\n",
    "    plt.colorbar() # adding colorbar\n",
    "    # setting tick marks:\n",
    "    tick_marks = np.arange(len(classes)) \n",
    "    plt.xticks(tick_marks, classes)\n",
    "    plt.yticks(tick_marks, classes)\n",
    "\n",
    "    # editing the indicators representation on the graph:\n",
    "    fmt = '.2f' if normalize else 'd' # setting the data type\n",
    "    thresh = cm.max() / 2.\n",
    "    for i, j in itertools.product(range(cm.shape[0]), range(cm.shape[1])):\n",
    "        plt.text(j, i, format(cm[i, j], fmt),                              # formatting the text\n",
    "                 horizontalalignment=\"center\",                             # setting central allignment\n",
    "                 color=\"white\" if cm[i, j] > thresh else \"black\")          # setting color of the text\n",
    "\n",
    "    plt.tight_layout() # adjusting plot parameters for a better fit in to the figure area\n",
    "    # setting the axes labels\n",
    "    plt.ylabel('True label')\n",
    "    plt.xlabel('Predicted label')"
   ]
  },
  {
   "cell_type": "code",
   "execution_count": 4,
   "metadata": {},
   "outputs": [],
   "source": [
    "class LogRegression:\n",
    "    \n",
    "    def __init__(self, lr = 0.001, nt = 3000):\n",
    "        self.weights = None\n",
    "        self.bias = None\n",
    "        self.lr = lr\n",
    "        self.nt = nt\n",
    "    \n",
    "    def sigmoid(self, x): return(1 / (1 + np.exp(-x)))\n",
    "    \n",
    "    def init_param(self, X):\n",
    "        n_features = np.shape(X)[1]\n",
    "        l = 1 / math.sqrt(n_features)\n",
    "        self.weights = np.random.uniform(-l, l, (n_features, 1))\n",
    "        self.bias = 0\n",
    "        \n",
    "    def fit(self, X, y):\n",
    "        \n",
    "        self.init_param(X)\n",
    "        n_samples = np.shape(X)[0]\n",
    "        \n",
    "        for _ in range(self.nt):\n",
    "                     \n",
    "            y_hat = self.sigmoid(np.dot(X, self.weights))\n",
    "            \n",
    "            self.weights -= self.lr * np.dot(X.T, y_hat - y) / n_samples\n",
    "            \n",
    "            \n",
    "    def predict(self, X):\n",
    "        y_hat = self.sigmoid(np.dot(X, self.weights))\n",
    "        return [1 if i > 0.5 else 0 for i in y_hat]\n",
    "    "
   ]
  },
  {
   "cell_type": "code",
   "execution_count": 5,
   "metadata": {},
   "outputs": [],
   "source": [
    "reg = LogRegression()\n",
    "reg.fit(X_train, y_train)"
   ]
  },
  {
   "cell_type": "code",
   "execution_count": 6,
   "metadata": {},
   "outputs": [],
   "source": [
    "y_hat = reg.predict(X_test)"
   ]
  },
  {
   "cell_type": "code",
   "execution_count": 7,
   "metadata": {},
   "outputs": [
    {
     "name": "stdout",
     "output_type": "stream",
     "text": [
      "Accuracy Log Reg from scratch:  0.66\n"
     ]
    }
   ],
   "source": [
    "print(\"Accuracy Log Reg from scratch: \", accuracy_score(y_test, y_hat))"
   ]
  },
  {
   "cell_type": "code",
   "execution_count": 8,
   "metadata": {},
   "outputs": [
    {
     "name": "stderr",
     "output_type": "stream",
     "text": [
      "C:\\Users\\info\\anaconda3\\lib\\site-packages\\sklearn\\utils\\validation.py:72: DataConversionWarning: A column-vector y was passed when a 1d array was expected. Please change the shape of y to (n_samples, ), for example using ravel().\n",
      "  return f(**kwargs)\n"
     ]
    },
    {
     "data": {
      "text/plain": [
       "LogisticRegression()"
      ]
     },
     "execution_count": 8,
     "metadata": {},
     "output_type": "execute_result"
    }
   ],
   "source": [
    "reg2 = LogisticRegression()\n",
    "reg2.fit(X_train, y_train)"
   ]
  },
  {
   "cell_type": "code",
   "execution_count": 9,
   "metadata": {},
   "outputs": [],
   "source": [
    "y_hat2 = reg2.predict(X_test)"
   ]
  },
  {
   "cell_type": "code",
   "execution_count": 10,
   "metadata": {},
   "outputs": [
    {
     "name": "stdout",
     "output_type": "stream",
     "text": [
      "Accuracy Log Reg from Sklearn:  0.71\n"
     ]
    }
   ],
   "source": [
    "print(\"Accuracy Log Reg from Sklearn: \", accuracy_score(y_test, y_hat2))"
   ]
  },
  {
   "cell_type": "code",
   "execution_count": 11,
   "metadata": {},
   "outputs": [
    {
     "name": "stdout",
     "output_type": "stream",
     "text": [
      "Accuracy Score is 0.66\n",
      "    0   1\n",
      "0  52  10\n",
      "1  24  14\n",
      "[[0.83870968 0.16129032]\n",
      " [0.63157895 0.36842105]]\n"
     ]
    },
    {
     "data": {
      "image/png": "[encoded data removed]",
      "text/plain": [
       "<Figure size 432x288 with 2 Axes>"
      ]
     },
     "metadata": {
      "needs_background": "light"
     },
     "output_type": "display_data"
    }
   ],
   "source": [
    "print('Accuracy Score is',accuracy_score(y_test, y_hat))\n",
    "print(pd.DataFrame(confusion_matrix(y_test, y_hat)))\n",
    "\n",
    "plot_confusion_matrix(confusion_matrix(y_test,y_hat),\n",
    "                      classes= ['0','1'], normalize = True, \n",
    "                      title='Normalized Confusion Matrix: Ramdom Forests')"
   ]
  }
 ],
 "metadata": {
  "kernelspec": {
   "display_name": "Python 3",
   "language": "python",
   "name": "python3"
  },
  "language_info": {
   "codemirror_mode": {
    "name": "ipython",
    "version": 3
   },
   "file_extension": ".py",
   "mimetype": "text/x-python",
   "name": "python",
   "nbconvert_exporter": "python",
   "pygments_lexer": "ipython3",
   "version": "3.8.5"
  }
 },
 "nbformat": 4,
 "nbformat_minor": 4
}
