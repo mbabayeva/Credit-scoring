{
 "cells": [
  {
   "cell_type": "code",
   "execution_count": 1,
   "metadata": {
    "scrolled": true
   },
   "outputs": [],
   "source": [
    "import random\n",
    "import pandas as pd\n",
    "import numpy as np\n",
    "import matplotlib.pyplot as plt\n",
    "from sklearn.metrics import accuracy_score\n",
    "from sklearn.metrics import confusion_matrix\n",
    "from sklearn.ensemble import RandomForestClassifier\n",
    "\n",
    "#df = pd.read_csv(\"export_dataframe.csv\", encoding = 'utf-8')\n",
    "df = pd.read_csv(\"smallsample.csv\", encoding = 'utf-8')"
   ]
  },
  {
   "cell_type": "code",
   "execution_count": 2,
   "metadata": {},
   "outputs": [],
   "source": [
    "import itertools # we will use this library tools\n",
    "def plot_confusion_matrix(cm, classes,\n",
    "                          normalize=False,\n",
    "                          title='Confusion matrix',\n",
    "                          cmap=plt.cm.Blues): # choosing blue theme for the graph\n",
    "    if normalize:\n",
    "        cm = cm.astype('float') / cm.sum(axis=1)[:, np.newaxis] # calculating the outlining indicators \n",
    "        \n",
    "    print(cm) # printing the confusion matrix\n",
    "    # designing the graph:\n",
    "    plt.imshow(cm, interpolation='nearest', cmap=cmap) # will be displaying data as 2D image\n",
    "    plt.title(title) # adding title\n",
    "    plt.colorbar() # adding colorbar\n",
    "    # setting tick marks:\n",
    "    tick_marks = np.arange(len(classes)) \n",
    "    plt.xticks(tick_marks, classes)\n",
    "    plt.yticks(tick_marks, classes)\n",
    "\n",
    "    # editing the indicators representation on the graph:\n",
    "    fmt = '.2f' if normalize else 'd' # setting the data type\n",
    "    thresh = cm.max() / 2.\n",
    "    for i, j in itertools.product(range(cm.shape[0]), range(cm.shape[1])):\n",
    "        plt.text(j, i, format(cm[i, j], fmt),                              # formatting the text\n",
    "                 horizontalalignment=\"center\",                             # setting central allignment\n",
    "                 color=\"white\" if cm[i, j] > thresh else \"black\")          # setting color of the text\n",
    "\n",
    "    plt.tight_layout() # adjusting plot parameters for a better fit in to the figure area\n",
    "    # setting the axes labels\n",
    "    plt.ylabel('True label')\n",
    "    plt.xlabel('Predicted label')"
   ]
  },
  {
   "cell_type": "code",
   "execution_count": 3,
   "metadata": {},
   "outputs": [],
   "source": [
    "#df = df.sample(frac=0.2, random_state=122)\n",
    "df = df.sample(frac=1, random_state=122)\n",
    "# random state 217 works"
   ]
  },
  {
   "cell_type": "markdown",
   "metadata": {},
   "source": [
    "### Random Forest "
   ]
  },
  {
   "cell_type": "code",
   "execution_count": 4,
   "metadata": {},
   "outputs": [],
   "source": [
    "# features = ['Gender','Reality','wkphone']  with this it works \n",
    "features = ['Gender','Reality','ChldNo_1', 'ChldNo_2More','wkphone',\n",
    "              'gp_Age_high', 'gp_Age_highest', 'gp_Age_medium',\n",
    "       'gp_Age_lowest','gp_worktm_high', 'gp_worktm_highest',\n",
    "       'gp_worktm_low', 'gp_worktm_medium','occyp_hightecwk', \n",
    "              'occyp_Laborwk','famsizegp_1', 'famsizegp_3more',\n",
    "       'houtp_Co-op apartment', 'houtp_Municipal apartment',\n",
    "       'houtp_Office apartment', 'houtp_Rented apartment',\n",
    "       'houtp_With parents','edutp_Higher education',\n",
    "       'edutp_Incomplete higher', 'edutp_Lower secondary','famtp_Civil marriage',\n",
    "       'famtp_Separated','famtp_Single / not married','famtp_Widow'] \n",
    "\n",
    "nb_train = int(np.floor(0.9 * len(df)))\n",
    "df = df.sample(frac=1, random_state=217)\n",
    "X_train = df[features][:nb_train]\n",
    "y_train = df['target'][:nb_train].values\n",
    "X_test = df[features][nb_train:]\n",
    "y_test = df['target'][nb_train:].values"
   ]
  },
  {
   "cell_type": "code",
   "execution_count": 5,
   "metadata": {},
   "outputs": [],
   "source": [
    "def entropy(p):\n",
    "    if p == 0:\n",
    "        return 0\n",
    "    elif p == 1:\n",
    "        return 0\n",
    "    else:\n",
    "        return - (p * np.log2(p) + (1 - p) * np.log2(1-p))\n",
    "\n",
    "def information_gain(left_child, right_child):\n",
    "    parent = left_child + right_child\n",
    "    p_parent = parent.count(1) / len(parent) if len(parent) > 0 else 0\n",
    "    p_left = left_child.count(1) / len(left_child) if len(left_child) > 0 else 0\n",
    "    p_right = right_child.count(1) / len(right_child) if len(right_child) > 0 else 0\n",
    "    IG_p = entropy(p_parent)\n",
    "    IG_l = entropy(p_left)\n",
    "    IG_r = entropy(p_right)\n",
    "    return IG_p - len(left_child) / len(parent) * IG_l - len(right_child) / len(parent) * IG_r"
   ]
  },
  {
   "cell_type": "code",
   "execution_count": 6,
   "metadata": {},
   "outputs": [],
   "source": [
    "def draw_bootstrap(X_train, y_train):\n",
    "    bootstrap_indices = list(np.random.choice(range(len(X_train)), len(X_train), replace = True))\n",
    "    oob_indices = [i for i in range(len(X_train)) if i not in bootstrap_indices]\n",
    "    X_bootstrap = X_train.iloc[bootstrap_indices].values\n",
    "    y_bootstrap = y_train[bootstrap_indices]\n",
    "    X_oob = X_train.iloc[oob_indices].values\n",
    "    y_oob = y_train[oob_indices]\n",
    "    return X_bootstrap, y_bootstrap, X_oob, y_oob\n",
    "\n",
    "def oob_score(tree, X_test, y_test):\n",
    "    mis_label = 0\n",
    "    for i in range(len(X_test)):\n",
    "        pred = predict_tree(tree, X_test[i])\n",
    "        if pred != y_test[i]:\n",
    "            mis_label += 1\n",
    "    return mis_label / len(X_test)"
   ]
  },
  {
   "cell_type": "code",
   "execution_count": 7,
   "metadata": {},
   "outputs": [],
   "source": [
    "def find_split_point(X_bootstrap, y_bootstrap, max_features):\n",
    "    feature_ls = list()\n",
    "    num_features = len(X_bootstrap[0])\n",
    "    while len(feature_ls) <= max_features:\n",
    "        feature_idx = random.sample(range(num_features), 1)\n",
    "        if feature_idx not in feature_ls:\n",
    "            feature_ls.extend(feature_idx)\n",
    "\n",
    "    best_info_gain = -999\n",
    "    node = None\n",
    "    for feature_idx in feature_ls:\n",
    "        for split_point in X_bootstrap[:,feature_idx]:\n",
    "            left_child = {'X_bootstrap': [], 'y_bootstrap': []}\n",
    "            right_child = {'X_bootstrap': [], 'y_bootstrap': []}\n",
    "\n",
    "        # split children for continuous variables\n",
    "        if type(split_point) in [int, float]:\n",
    "            for i, value in enumerate(X_bootstrap[:,feature_idx]):\n",
    "                if value <= split_point:\n",
    "                    left_child['X_bootstrap'].append(X_bootstrap[i])\n",
    "                    left_child['y_bootstrap'].append(y_bootstrap[i])\n",
    "                else:\n",
    "                    right_child['X_bootstrap'].append(X_bootstrap[i])\n",
    "                    right_child['y_bootstrap'].append(y_bootstrap[i])\n",
    "        # split children for categoric variables\n",
    "        else:\n",
    "            for i, value in enumerate(X_bootstrap[:,feature_idx]):\n",
    "                if value == split_point:\n",
    "                    left_child['X_bootstrap'].append(X_bootstrap[i])\n",
    "                    left_child['y_bootstrap'].append(y_bootstrap[i])\n",
    "                else:\n",
    "                    right_child['X_bootstrap'].append(X_bootstrap[i])\n",
    "                    right_child['y_bootstrap'].append(y_bootstrap[i])\n",
    "\n",
    "        split_info_gain = information_gain(left_child['y_bootstrap'], right_child['y_bootstrap'])\n",
    "        if split_info_gain > best_info_gain:\n",
    "            best_info_gain = split_info_gain\n",
    "            left_child['X_bootstrap'] = np.array(left_child['X_bootstrap'])\n",
    "            right_child['X_bootstrap'] = np.array(right_child['X_bootstrap'])\n",
    "            node = {'information_gain': split_info_gain,\n",
    "                    'left_child': left_child,\n",
    "                    'right_child': right_child,\n",
    "                    'split_point': split_point,\n",
    "                    'feature_idx': feature_idx}\n",
    "\n",
    "\n",
    "    return node"
   ]
  },
  {
   "cell_type": "code",
   "execution_count": 8,
   "metadata": {},
   "outputs": [],
   "source": [
    "def terminal_node(node):\n",
    "    y_bootstrap = node['y_bootstrap']\n",
    "    pred = max(y_bootstrap, key = y_bootstrap.count)\n",
    "    return pred\n",
    "\n",
    "\n",
    "def split_node(node, max_features, min_samples_split, max_depth, depth):\n",
    "    left_child = node['left_child']\n",
    "    right_child = node['right_child']\n",
    "\n",
    "    del(node['left_child'])\n",
    "    del(node['right_child'])\n",
    "\n",
    "    if len(left_child['y_bootstrap']) == 0 or len(right_child['y_bootstrap']) == 0:\n",
    "        empty_child = {'y_bootstrap': left_child['y_bootstrap'] + right_child['y_bootstrap']}\n",
    "        node['left_split'] = terminal_node(empty_child)\n",
    "        node['right_split'] = terminal_node(empty_child)\n",
    "        return\n",
    "\n",
    "    if depth >= max_depth:\n",
    "        node['left_split'] = terminal_node(left_child)\n",
    "        node['right_split'] = terminal_node(right_child)\n",
    "        return node\n",
    "\n",
    "    if len(left_child['X_bootstrap']) <= min_samples_split:\n",
    "        node['left_split'] = node['right_split'] = terminal_node(left_child)\n",
    "    else:\n",
    "        node['left_split'] = find_split_point(left_child['X_bootstrap'], left_child['y_bootstrap'], max_features)\n",
    "        split_node(node['left_split'], max_depth, min_samples_split, max_depth, depth + 1)\n",
    "    if len(right_child['X_bootstrap']) <= min_samples_split:\n",
    "        node['right_split'] = node['left_split'] = terminal_node(right_child)\n",
    "    else:\n",
    "        node['right_split'] = find_split_point(right_child['X_bootstrap'], right_child['y_bootstrap'], max_features)\n",
    "        split_node(node['right_split'], max_features, min_samples_split, max_depth, depth + 1)"
   ]
  },
  {
   "cell_type": "code",
   "execution_count": 9,
   "metadata": {},
   "outputs": [],
   "source": [
    "def build_tree(X_bootstrap, y_bootstrap, max_depth, min_samples_split, max_features):\n",
    "    root_node = find_split_point(X_bootstrap, y_bootstrap, max_features)\n",
    "    split_node(root_node, max_features, min_samples_split, max_depth, 1)\n",
    "    return root_node\n",
    "\n",
    "def random_forest(X_train, y_train, n_estimators, max_features, max_depth, min_samples_split):\n",
    "    tree_ls = list()\n",
    "    oob_ls = list()\n",
    "    for i in range(n_estimators):\n",
    "        X_bootstrap, y_bootstrap, X_oob, y_oob = draw_bootstrap(X_train, y_train)\n",
    "        tree = build_tree(X_bootstrap, y_bootstrap, max_features, max_depth, min_samples_split)\n",
    "        tree_ls.append(tree)\n",
    "        oob_error = oob_score(tree, X_oob, y_oob)\n",
    "        oob_ls.append(oob_error)\n",
    "    print(\"OOB estimate: {:.2f}\".format(np.mean(oob_ls)))\n",
    "    return tree_ls"
   ]
  },
  {
   "cell_type": "code",
   "execution_count": 10,
   "metadata": {},
   "outputs": [],
   "source": [
    "def predict_tree(tree, X_test):\n",
    "    feature_idx = tree['feature_idx']\n",
    "\n",
    "    if X_test[feature_idx] <= tree['split_point']:\n",
    "        if type(tree['left_split']) == dict:\n",
    "            return predict_tree(tree['left_split'], X_test)\n",
    "        else:\n",
    "            value = tree['left_split']\n",
    "            return value\n",
    "    else:\n",
    "        if type(tree['right_split']) == dict:\n",
    "            return predict_tree(tree['right_split'], X_test)\n",
    "        else:\n",
    "            return tree['right_split']"
   ]
  },
  {
   "cell_type": "code",
   "execution_count": 11,
   "metadata": {},
   "outputs": [],
   "source": [
    "def predict_rf(tree_ls, X_test):\n",
    "    pred_ls = list()\n",
    "    for i in range(len(X_test)):\n",
    "        ensemble_preds = [predict_tree(tree, X_test.values[i]) for tree in tree_ls]\n",
    "        final_pred = max(ensemble_preds, key = ensemble_preds.count)\n",
    "        pred_ls.append(final_pred)\n",
    "    return np.array(pred_ls)"
   ]
  },
  {
   "cell_type": "code",
   "execution_count": 12,
   "metadata": {},
   "outputs": [
    {
     "name": "stdout",
     "output_type": "stream",
     "text": [
      "OOB estimate: 0.49\n"
     ]
    }
   ],
   "source": [
    "n_estimators = 50\n",
    "max_features = 3\n",
    "max_depth = 10\n",
    "min_samples_split = 2\n",
    "\n",
    "model = random_forest(X_train, y_train, n_estimators=50, max_features=3, max_depth=10, min_samples_split=2)"
   ]
  },
  {
   "cell_type": "code",
   "execution_count": 13,
   "metadata": {},
   "outputs": [
    {
     "name": "stdout",
     "output_type": "stream",
     "text": [
      "Testing accuracy: 0.59\n"
     ]
    }
   ],
   "source": [
    "preds = predict_rf(model, X_test)\n",
    "acc = sum(preds == y_test) / len(y_test)\n",
    "print(\"Testing accuracy: {}\".format(np.round(acc,3)))"
   ]
  },
  {
   "cell_type": "code",
   "execution_count": 14,
   "metadata": {
    "scrolled": true
   },
   "outputs": [
    {
     "name": "stdout",
     "output_type": "stream",
     "text": [
      "Accuracy Score is 0.59\n",
      "    0   1\n",
      "0  22  30\n",
      "1  11  37\n",
      "[[0.42307692 0.57692308]\n",
      " [0.22916667 0.77083333]]\n"
     ]
    },
    {
     "data": {
      "image/png": "[encoded data removed]",
      "text/plain": [
       "<Figure size 432x288 with 2 Axes>"
      ]
     },
     "metadata": {
      "needs_background": "light"
     },
     "output_type": "display_data"
    }
   ],
   "source": [
    "print('Accuracy Score is',accuracy_score(y_test, preds))\n",
    "print(pd.DataFrame(confusion_matrix(y_test,preds)))\n",
    "\n",
    "plot_confusion_matrix(confusion_matrix(y_test,preds),\n",
    "                      classes= ['0','1'], normalize = True, \n",
    "                      title='Normalized Confusion Matrix: Ramdom Forests')"
   ]
  },
  {
   "cell_type": "code",
   "execution_count": null,
   "metadata": {},
   "outputs": [],
   "source": []
  },
  {
   "cell_type": "code",
   "execution_count": null,
   "metadata": {},
   "outputs": [],
   "source": []
  },
  {
   "cell_type": "code",
   "execution_count": null,
   "metadata": {},
   "outputs": [],
   "source": []
  }
 ],
 "metadata": {
  "kernelspec": {
   "display_name": "Python 3",
   "language": "python",
   "name": "python3"
  },
  "language_info": {
   "codemirror_mode": {
    "name": "ipython",
    "version": 3
   },
   "file_extension": ".py",
   "mimetype": "text/x-python",
   "name": "python",
   "nbconvert_exporter": "python",
   "pygments_lexer": "ipython3",
   "version": "3.8.5"
  }
 },
 "nbformat": 4,
 "nbformat_minor": 4
}
